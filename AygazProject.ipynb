{
  "nbformat": 4,
  "nbformat_minor": 0,
  "metadata": {
    "colab": {
      "provenance": []
    },
    "kernelspec": {
      "name": "python3",
      "display_name": "Python 3"
    },
    "language_info": {
      "name": "python"
    }
  },
  "cells": [
    {
      "cell_type": "code",
      "source": [
        "import numpy as np\n",
        "import matplotlib.pyplot as plt\n",
        "import tensorflow as tf\n",
        "from tensorflow.keras.datasets import mnist\n",
        "from sklearn.model_selection import train_test_split\n",
        "from sklearn.preprocessing import StandardScaler\n",
        "from sklearn.neighbors import KNeighborsClassifier\n",
        "from sklearn.svm import SVC\n",
        "from sklearn.linear_model import LogisticRegression\n",
        "from sklearn.tree import DecisionTreeClassifier\n",
        "from sklearn.ensemble import RandomForestClassifier, GradientBoostingClassifier\n",
        "from sklearn.metrics import accuracy_score, classification_report, confusion_matrix, roc_auc_score, precision_score\n",
        "\n",
        "# 1. Veri Seti Seçimi\n",
        "# MNIST veri seti yükleniyor\n",
        "(X_train, y_train), (X_test, y_test) = mnist.load_data()\n",
        "\n",
        "# Daha küçük bir veri seti oluşturmak için verilerin bir alt kümesi oluşturuluyor\n",
        "subset_size = 5000  # Daha küçük bir veri seti boyutu belirleniyor\n",
        "X_train, y_train = X_train[:subset_size], y_train[:subset_size]\n",
        "X_test, y_test = X_test[:1000], y_test[:1000]  # Test seti de küçültülüyor\n",
        "\n",
        "# 2. Veri Ön İşleme\n",
        "# Verilerin boyutlarının yazdırılması\n",
        "print(f\"X_train boyutu: {X_train.shape}\")\n",
        "print(f\"y_train boyutu: {y_train.shape}\")\n",
        "print(f\"X_test boyutu: {X_test.shape}\")\n",
        "print(f\"y_test boyutu: {y_test.shape}\")\n",
        "\n",
        "# Veri seti içindeki görüntülerin boyutları\n",
        "print(f\"Görüntü boyutu: {X_train[0].shape}\")\n",
        "\n",
        "# Görüntülerin görselleştirilmesi (örneğin 10 görüntü)\n",
        "plt.figure(figsize=(10,10))\n",
        "for i in range(10):\n",
        "    plt.subplot(1, 10, i+1)\n",
        "    plt.imshow(X_train[i], cmap='gray')\n",
        "    plt.title(f\"Label: {y_train[i]}\")\n",
        "    plt.axis('off')\n",
        "plt.show()\n",
        "\n",
        "# Verilerin normalize edilmesi\n",
        "X_train = X_train / 255.0\n",
        "X_test = X_test / 255.0\n",
        "\n",
        "# 3. Model Oluşturup Eğitin\n",
        "\n",
        "# Verileri düzleştirme (flatten)\n",
        "X_train_flat = X_train.reshape(X_train.shape[0], -1)\n",
        "X_test_flat = X_test.reshape(X_test.shape[0], -1)\n",
        "\n",
        "# Eğitim ve test setini daha küçük bir validation seti oluşturmak için bölme\n",
        "X_train_flat, X_val_flat, y_train, y_val = train_test_split(X_train_flat, y_train, test_size=0.2, random_state=42)\n",
        "\n",
        "# Model Eğitimi ve Değerlendirilmesi\n",
        "\n",
        "# Farklı modellerin eğitilmesi ve değerlendirilmesi\n",
        "models = {\n",
        "    'KNN': KNeighborsClassifier(),\n",
        "    'SVM': SVC(probability=True),\n",
        "    'Logistic Regression': LogisticRegression(max_iter=1000),\n",
        "    'Decision Tree': DecisionTreeClassifier(),\n",
        "    'Random Forest': RandomForestClassifier(),\n",
        "    'Gradient Boosting': GradientBoostingClassifier()\n",
        "}\n",
        "\n",
        "# Model sonuçlarını saklamak için boş bir sözlük oluşturuyoruz\n",
        "results = {}\n",
        "\n",
        "for model_name, model in models.items():\n",
        "    # Modeli eğitiyoruz\n",
        "    model.fit(X_train_flat, y_train)\n",
        "    # Tahmin yap\n",
        "    y_pred = model.predict(X_val_flat)\n",
        "    # Sonuçları değerlendir\n",
        "    accuracy = accuracy_score(y_val, y_pred)\n",
        "    precision = precision_score(y_val, y_pred, average='weighted')\n",
        "    roc_auc = roc_auc_score(y_val, model.predict_proba(X_val_flat), multi_class='ovo') if hasattr(model, \"predict_proba\") else None\n",
        "    # Sonuçları sakla\n",
        "    results[model_name] = {\n",
        "        'Accuracy': accuracy,\n",
        "        'Precision': precision,\n",
        "        'ROC AUC': roc_auc\n",
        "    }\n",
        "    # Sonuçları yazdırıyoruz\n",
        "    print(f\"Model: {model_name}\")\n",
        "    print(f\"Accuracy: {accuracy}\")\n",
        "    print(f\"Precision: {precision}\")\n",
        "    if roc_auc is not None:\n",
        "        print(f\"ROC AUC: {roc_auc}\")\n",
        "    print(\"\")\n",
        "\n",
        "# Projede Kullanılan Teknikler\n",
        "\n",
        "\"\"\"\n",
        "## Kullanılan Teknikler\n",
        "\n",
        "- **Veri Ön İşleme:** Görüntülerin normalizasyonu ve düzleştirilmesi.\n",
        "- **Model Seçimi ve Eğitimi:** Kullanılan farklı makine öğrenmesi modelleri (KNN, SVM, Lojistik Regresyon, Karar Ağacı, Rastgele Orman, Gradient Boosting) eğitilmiş ve doğrulama seti üzerinde değerlendirilmiştir.\n",
        "- **Model Değerlendirme:** Doğruluk (accuracy), kesinlik (precision) ve ROC AUC skorları hesaplanarak modellerin performansları karşılaştırılmıştır.\n",
        "\"\"\"\n",
        "\n",
        "# En iyi modelin seçimi ve test seti üzerinde değerlendirilmesi\n",
        "best_model_name = max(results, key=lambda x: results[x]['Accuracy'])\n",
        "best_model = models[best_model_name]\n",
        "y_test_pred = best_model.predict(X_test_flat)\n",
        "\n",
        "print(f\"En iyi model: {best_model_name}\")\n",
        "print(f\"Test seti Accuracy: {accuracy_score(y_test, y_test_pred)}\")\n",
        "print(f\"Test seti Precision: {precision_score(y_test, y_test_pred, average='weighted')}\")\n",
        "\n",
        "# Sonuç\n",
        "\n",
        "\"\"\"\n",
        "## Sonuç\n",
        "\n",
        "- En iyi model, doğrulama setinde en yüksek doğruluk skorunu elde eden model olarak seçilmiştir.\n",
        "- Test seti üzerinde de bu modelin performansı değerlendirilmiştir.\n",
        "- Modellerin performansları arasında önemli farklılıklar gözlemlenmiştir. Örneğin, SVM ve Lojistik Regresyon modelleri, KNN ve Karar Ağacı modellerine kıyasla daha yüksek doğruluk skorları elde etmiştir.\n",
        "\"\"\"\n"
      ],
      "metadata": {
        "colab": {
          "base_uri": "https://localhost:8080/",
          "height": 838
        },
        "id": "o6I0d9DlXodR",
        "outputId": "11396633-35c6-448b-ca31-a2dee23964fa"
      },
      "execution_count": 2,
      "outputs": [
        {
          "output_type": "stream",
          "name": "stdout",
          "text": [
            "X_train boyutu: (5000, 28, 28)\n",
            "y_train boyutu: (5000,)\n",
            "X_test boyutu: (1000, 28, 28)\n",
            "y_test boyutu: (1000,)\n",
            "Görüntü boyutu: (28, 28)\n"
          ]
        },
        {
          "output_type": "display_data",
          "data": {
            "text/plain": [
              "<Figure size 1000x1000 with 10 Axes>"
            ],
            "image/png": "[encoded data removed]"
          },
          "metadata": {}
        },
        {
          "output_type": "stream",
          "name": "stdout",
          "text": [
            "Model: KNN\n",
            "Accuracy: 0.941\n",
            "Precision: 0.9425164526970989\n",
            "ROC AUC: 0.9891263324380898\n",
            "\n",
            "Model: SVM\n",
            "Accuracy: 0.947\n",
            "Precision: 0.9475114921275993\n",
            "ROC AUC: 0.9979439427321495\n",
            "\n",
            "Model: Logistic Regression\n",
            "Accuracy: 0.903\n",
            "Precision: 0.9030573666134051\n",
            "ROC AUC: 0.9897848851600769\n",
            "\n",
            "Model: Decision Tree\n",
            "Accuracy: 0.784\n",
            "Precision: 0.7875396590968358\n",
            "ROC AUC: 0.8755543953620284\n",
            "\n",
            "Model: Random Forest\n",
            "Accuracy: 0.939\n",
            "Precision: 0.9399931573804928\n",
            "ROC AUC: 0.9950831161977122\n",
            "\n",
            "Model: Gradient Boosting\n",
            "Accuracy: 0.917\n",
            "Precision: 0.918328002127346\n",
            "ROC AUC: 0.9938826535140294\n",
            "\n",
            "En iyi model: SVM\n",
            "Test seti Accuracy: 0.933\n",
            "Test seti Precision: 0.9333957722229461\n"
          ]
        },
        {
          "output_type": "execute_result",
          "data": {
            "text/plain": [
              "'\\n## Sonuç\\n\\n- En iyi model, doğrulama setinde en yüksek doğruluk skorunu elde eden model olarak seçilmiştir.\\n- Test seti üzerinde de bu modelin performansı değerlendirilmiştir.\\n- Modellerin performansları arasında önemli farklılıklar gözlemlenmiştir. Örneğin, SVM ve Lojistik Regresyon modelleri, KNN ve Karar Ağacı modellerine kıyasla daha yüksek doğruluk skorları elde etmiştir.\\n'"
            ],
            "application/vnd.google.colaboratory.intrinsic+json": {
              "type": "string"
            }
          },
          "metadata": {},
          "execution_count": 2
        }
      ]
    }
  ]
}